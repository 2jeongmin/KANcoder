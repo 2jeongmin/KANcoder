{
 "cells": [
  {
   "cell_type": "markdown",
   "metadata": {},
   "source": [
    "# Experimenting with SDOF System using KAN, CNN, and MLP"
   ]
  },
  {
   "cell_type": "markdown",
   "metadata": {},
   "source": [
    "## 1. SDOF data generation"
   ]
  },
  {
   "cell_type": "code",
   "execution_count": 2,
   "metadata": {},
   "outputs": [
    {
     "name": "stdout",
     "output_type": "stream",
     "text": [
      "Input shape: (1000, 3)\n",
      "Output shape: (1000,)\n"
     ]
    }
   ],
   "source": [
    "import numpy as np\n",
    "\n",
    "def generate_sdoff_data(samples=1000, dt=0.01):\n",
    "    \"\"\"Generate synthetic SDOF data.\"\"\"\n",
    "    # Parameters for the SDOF system\n",
    "    m, c, k = 1.0, 1.5, 200.0  # Mass, damping, stiffness\n",
    "    f = np.random.normal(0, 1, samples)  # External force (white noise)\n",
    "    \n",
    "    # Initialize arrays for displacement, velocity, acceleration\n",
    "    x, v, a = np.zeros(samples), np.zeros(samples), np.zeros(samples)\n",
    "\n",
    "    # Simulate the response using Newmark-beta method\n",
    "    for i in range(1, samples):\n",
    "        a[i] = (f[i] - c * v[i - 1] - k * x[i - 1]) / m\n",
    "        v[i] = v[i - 1] + a[i] * dt\n",
    "        x[i] = x[i - 1] + v[i] * dt\n",
    "\n",
    "    return np.stack([v, a, f], axis=1), x  # Inputs: (velocity, accel, force), Output: displacement\n",
    "\n",
    "# Generate data\n",
    "X, y = generate_sdoff_data()\n",
    "print(\"Input shape:\", X.shape)\n",
    "print(\"Output shape:\", y.shape)"
   ]
  },
  {
   "cell_type": "markdown",
   "metadata": {},
   "source": [
    "## 2. Define models"
   ]
  },
  {
   "cell_type": "markdown",
   "metadata": {},
   "source": [
    "### KAN"
   ]
  },
  {
   "cell_type": "code",
   "execution_count": null,
   "metadata": {},
   "outputs": [],
   "source": [
    "from pykan import KAN\n",
    "\n",
    "kan = KAN(input_dim=3, output_dim=1, layers=[3, 10, 10, 1])"
   ]
  },
  {
   "cell_type": "markdown",
   "metadata": {},
   "source": [
    "### CNN"
   ]
  },
  {
   "cell_type": "code",
   "execution_count": null,
   "metadata": {},
   "outputs": [],
   "source": [
    "import torch.nn as nn\n",
    "\n",
    "class CNN(nn.Module):\n",
    "    def __init__(self):\n",
    "        super(CNN, self).__init__()\n",
    "        self.conv1 = nn.Conv1d(3, 16, kernel_size=3, padding=1)\n",
    "        self.conv2 = nn.Conv1d(16, 32, kernel_size=3, padding=1)\n",
    "        self.fc1 = nn.Linear(32 * 100, 128)\n",
    "        self.fc2 = nn.Linear(128, 1)\n",
    "\n",
    "    def forward(self, x):\n",
    "        x = torch.relu(self.conv1(x))\n",
    "        x = torch.relu(self.conv2(x))\n",
    "        x = x.view(x.size(0), -1)\n",
    "        x = torch.relu(self.fc1(x))\n",
    "        return self.fc2(x)"
   ]
  },
  {
   "cell_type": "markdown",
   "metadata": {},
   "source": [
    "### MLP"
   ]
  },
  {
   "cell_type": "code",
   "execution_count": null,
   "metadata": {},
   "outputs": [],
   "source": [
    "class MLP(nn.Module):\n",
    "    def __init__(self):\n",
    "        super(MLP, self).__init__()\n",
    "        self.fc1 = nn.Linear(300, 128)\n",
    "        self.fc2 = nn.Linear(128, 64)\n",
    "        self.fc3 = nn.Linear(64, 1)\n",
    "\n",
    "    def forward(self, x):\n",
    "        x = torch.relu(self.fc1(x))\n",
    "        x = torch.relu(self.fc2(x))\n",
    "        return self.fc3(x)"
   ]
  },
  {
   "cell_type": "markdown",
   "metadata": {},
   "source": [
    "## 3. Prepare Data for Training"
   ]
  },
  {
   "cell_type": "code",
   "execution_count": null,
   "metadata": {},
   "outputs": [],
   "source": [
    "import torch\n",
    "\n",
    "# Convert data to PyTorch tensors\n",
    "X_tensor = torch.tensor(X, dtype=torch.float32)\n",
    "y_tensor = torch.tensor(y, dtype=torch.float32).unsqueeze(1)\n",
    "\n",
    "# Reshape data for CNN (batch_size, channels, length)\n",
    "X_cnn = X_tensor.unsqueeze(0).permute(0, 2, 1)  # Example: (1, 3, 100)"
   ]
  },
  {
   "cell_type": "markdown",
   "metadata": {},
   "source": [
    "## 4. Define Training Loop"
   ]
  },
  {
   "cell_type": "code",
   "execution_count": null,
   "metadata": {},
   "outputs": [],
   "source": [
    "def train_model(model, X, y, epochs=1000, lr=0.001):\n",
    "    optimizer = torch.optim.Adam(model.parameters(), lr=lr)\n",
    "    loss_fn = nn.MSELoss()\n",
    "\n",
    "    for epoch in range(epochs):\n",
    "        model.train()\n",
    "        optimizer.zero_grad()\n",
    "        outputs = model(X)\n",
    "        loss = loss_fn(outputs, y)\n",
    "        loss.backward()\n",
    "        optimizer.step()\n",
    "\n",
    "        if (epoch + 1) % 100 == 0:\n",
    "            print(f'Epoch [{epoch + 1}/1000], Loss: {loss.item():.4f}')"
   ]
  },
  {
   "cell_type": "markdown",
   "metadata": {},
   "source": [
    "## 5. Train and Compare Models"
   ]
  },
  {
   "cell_type": "code",
   "execution_count": null,
   "metadata": {},
   "outputs": [],
   "source": [
    "# Train KAN\n",
    "train_model(kan, X_tensor, y_tensor)\n",
    "\n",
    "# Train CNN\n",
    "cnn = CNN()\n",
    "train_model(cnn, X_cnn, y_tensor)\n",
    "\n",
    "# Train MLP\n",
    "mlp = MLP()\n",
    "train_model(mlp, X_tensor.view(-1, 300), y_tensor)\n"
   ]
  },
  {
   "cell_type": "markdown",
   "metadata": {},
   "source": [
    "## 6. Evaluate and Visualize Results"
   ]
  },
  {
   "cell_type": "code",
   "execution_count": null,
   "metadata": {},
   "outputs": [],
   "source": [
    "import matplotlib.pyplot as plt\n",
    "\n",
    "def plot_results(model, X, y_true, title):\n",
    "    model.eval()\n",
    "    with torch.no_grad():\n",
    "        y_pred = model(X).squeeze().numpy()\n",
    "    \n",
    "    plt.plot(y_true, label='True Displacement')\n",
    "    plt.plot(y_pred, label='Predicted Displacement')\n",
    "    plt.title(title)\n",
    "    plt.legend()\n",
    "    plt.show()\n",
    "\n",
    "# Plot results\n",
    "plot_results(kan, X_tensor, y, 'KAN Prediction')\n",
    "plot_results(cnn, X_cnn, y, 'CNN Prediction')\n",
    "plot_results(mlp, X_tensor.view(-1, 300), y, 'MLP Prediction')\n"
   ]
  }
 ],
 "metadata": {
  "kernelspec": {
   "display_name": "SSI",
   "language": "python",
   "name": "python3"
  },
  "language_info": {
   "codemirror_mode": {
    "name": "ipython",
    "version": 3
   },
   "file_extension": ".py",
   "mimetype": "text/x-python",
   "name": "python",
   "nbconvert_exporter": "python",
   "pygments_lexer": "ipython3",
   "version": "3.13.0"
  }
 },
 "nbformat": 4,
 "nbformat_minor": 2
}
