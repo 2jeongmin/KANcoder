{
 "cells": [
  {
   "cell_type": "code",
   "execution_count": 1,
   "metadata": {},
   "outputs": [
    {
     "name": "stderr",
     "output_type": "stream",
     "text": [
      "Cloning into 'MNISTDiffusion'...\n"
     ]
    }
   ],
   "source": [
    "!git clone https://github.com/bot66/MNISTDiffusion.git"
   ]
  },
  {
   "cell_type": "code",
   "execution_count": 4,
   "metadata": {},
   "outputs": [
    {
     "name": "stdout",
     "output_type": "stream",
     "text": [
      "C:\\Users\\USER\\KANcoder\\MNISTDiffusion\n"
     ]
    }
   ],
   "source": [
    "%cd \"C:\\Users\\USER\\KANcoder\\MNISTDiffusion\""
   ]
  },
  {
   "cell_type": "code",
   "execution_count": 5,
   "metadata": {},
   "outputs": [
    {
     "name": "stdout",
     "output_type": "stream",
     "text": [
      "Collecting torch (from -r requirements.txt (line 1))\n",
      "  Downloading torch-2.4.1-cp311-cp311-win_amd64.whl.metadata (27 kB)\n",
      "Collecting torchvision (from -r requirements.txt (line 2))\n",
      "  Downloading torchvision-0.19.1-cp311-cp311-win_amd64.whl.metadata (6.1 kB)\n",
      "Collecting tqdm (from -r requirements.txt (line 3))\n",
      "  Downloading tqdm-4.66.5-py3-none-any.whl.metadata (57 kB)\n",
      "Collecting argparse (from -r requirements.txt (line 4))\n",
      "  Downloading argparse-1.4.0-py2.py3-none-any.whl.metadata (2.8 kB)\n",
      "Collecting filelock (from torch->-r requirements.txt (line 1))\n",
      "  Downloading filelock-3.16.1-py3-none-any.whl.metadata (2.9 kB)\n",
      "Requirement already satisfied: typing-extensions>=4.8.0 in c:\\users\\user\\kancoder\\.conda\\lib\\site-packages (from torch->-r requirements.txt (line 1)) (4.12.2)\n",
      "Collecting sympy (from torch->-r requirements.txt (line 1))\n",
      "  Downloading sympy-1.13.3-py3-none-any.whl.metadata (12 kB)\n",
      "Collecting networkx (from torch->-r requirements.txt (line 1))\n",
      "  Downloading networkx-3.4-py3-none-any.whl.metadata (6.3 kB)\n",
      "Collecting jinja2 (from torch->-r requirements.txt (line 1))\n",
      "  Downloading jinja2-3.1.4-py3-none-any.whl.metadata (2.6 kB)\n",
      "Collecting fsspec (from torch->-r requirements.txt (line 1))\n",
      "  Downloading fsspec-2024.9.0-py3-none-any.whl.metadata (11 kB)\n",
      "Collecting numpy (from torchvision->-r requirements.txt (line 2))\n",
      "  Downloading numpy-2.1.2-cp311-cp311-win_amd64.whl.metadata (59 kB)\n",
      "Collecting pillow!=8.3.*,>=5.3.0 (from torchvision->-r requirements.txt (line 2))\n",
      "  Downloading pillow-10.4.0-cp311-cp311-win_amd64.whl.metadata (9.3 kB)\n",
      "Requirement already satisfied: colorama in c:\\users\\user\\kancoder\\.conda\\lib\\site-packages (from tqdm->-r requirements.txt (line 3)) (0.4.6)\n",
      "Collecting MarkupSafe>=2.0 (from jinja2->torch->-r requirements.txt (line 1))\n",
      "  Downloading MarkupSafe-3.0.1-cp311-cp311-win_amd64.whl.metadata (4.1 kB)\n",
      "Collecting mpmath<1.4,>=1.1.0 (from sympy->torch->-r requirements.txt (line 1))\n",
      "  Downloading mpmath-1.3.0-py3-none-any.whl.metadata (8.6 kB)\n",
      "Downloading torch-2.4.1-cp311-cp311-win_amd64.whl (199.4 MB)\n",
      "   ---------------------------------------- 0.0/199.4 MB ? eta -:--:--\n",
      "   ---------------------------------------- 1.6/199.4 MB 7.0 MB/s eta 0:00:29\n",
      "   - -------------------------------------- 7.9/199.4 MB 18.0 MB/s eta 0:00:11\n",
      "   -- ------------------------------------- 13.9/199.4 MB 22.4 MB/s eta 0:00:09\n",
      "   --- ------------------------------------ 19.7/199.4 MB 23.4 MB/s eta 0:00:08\n",
      "   ----- ---------------------------------- 26.2/199.4 MB 24.8 MB/s eta 0:00:07\n",
      "   ------ --------------------------------- 32.8/199.4 MB 26.0 MB/s eta 0:00:07\n",
      "   ------- -------------------------------- 38.8/199.4 MB 26.8 MB/s eta 0:00:06\n",
      "   ------- -------------------------------- 39.8/199.4 MB 23.7 MB/s eta 0:00:07\n",
      "   -------- ------------------------------- 40.1/199.4 MB 22.0 MB/s eta 0:00:08\n",
      "   -------- ------------------------------- 44.8/199.4 MB 21.3 MB/s eta 0:00:08\n",
      "   --------- ------------------------------ 48.8/199.4 MB 21.3 MB/s eta 0:00:08\n",
      "   ---------- ----------------------------- 54.5/199.4 MB 21.7 MB/s eta 0:00:07\n",
      "   ------------ --------------------------- 60.3/199.4 MB 22.0 MB/s eta 0:00:07\n",
      "   ------------- -------------------------- 66.3/199.4 MB 22.5 MB/s eta 0:00:06\n",
      "   -------------- ------------------------- 73.1/199.4 MB 23.1 MB/s eta 0:00:06\n",
      "   ---------------- ----------------------- 80.2/199.4 MB 23.7 MB/s eta 0:00:06\n",
      "   ----------------- ---------------------- 87.0/199.4 MB 24.3 MB/s eta 0:00:05\n",
      "   ------------------ --------------------- 91.2/199.4 MB 24.3 MB/s eta 0:00:05\n",
      "   ------------------ --------------------- 92.5/199.4 MB 23.0 MB/s eta 0:00:05\n",
      "   ------------------- -------------------- 99.1/199.4 MB 23.4 MB/s eta 0:00:05\n",
      "   -------------------- ------------------ 105.6/199.4 MB 23.8 MB/s eta 0:00:04\n",
      "   --------------------- ----------------- 112.5/199.4 MB 24.1 MB/s eta 0:00:04\n",
      "   ----------------------- --------------- 119.3/199.4 MB 24.5 MB/s eta 0:00:04\n",
      "   ------------------------ -------------- 125.6/199.4 MB 24.7 MB/s eta 0:00:03\n",
      "   ------------------------- ------------- 131.1/199.4 MB 24.9 MB/s eta 0:00:03\n",
      "   ------------------------- ------------- 131.9/199.4 MB 23.9 MB/s eta 0:00:03\n",
      "   -------------------------- ------------ 134.2/199.4 MB 23.5 MB/s eta 0:00:03\n",
      "   -------------------------- ------------ 137.1/199.4 MB 23.1 MB/s eta 0:00:03\n",
      "   --------------------------- ----------- 140.8/199.4 MB 22.9 MB/s eta 0:00:03\n",
      "   ---------------------------- ---------- 147.6/199.4 MB 23.2 MB/s eta 0:00:03\n",
      "   ----------------------------- --------- 151.8/199.4 MB 23.1 MB/s eta 0:00:03\n",
      "   ------------------------------ -------- 158.3/199.4 MB 23.3 MB/s eta 0:00:02\n",
      "   -------------------------------- ------ 164.6/199.4 MB 23.5 MB/s eta 0:00:02\n",
      "   -------------------------------- ------ 168.3/199.4 MB 23.3 MB/s eta 0:00:02\n",
      "   ---------------------------------- ---- 175.4/199.4 MB 23.6 MB/s eta 0:00:02\n",
      "   ----------------------------------- --- 180.4/199.4 MB 23.7 MB/s eta 0:00:01\n",
      "   ----------------------------------- --- 181.9/199.4 MB 23.1 MB/s eta 0:00:01\n",
      "   ------------------------------------ -- 187.2/199.4 MB 23.2 MB/s eta 0:00:01\n",
      "   ------------------------------------- - 191.9/199.4 MB 23.1 MB/s eta 0:00:01\n",
      "   --------------------------------------  197.4/199.4 MB 23.3 MB/s eta 0:00:01\n",
      "   --------------------------------------  199.2/199.4 MB 23.0 MB/s eta 0:00:01\n",
      "   --------------------------------------- 199.4/199.4 MB 22.6 MB/s eta 0:00:00\n",
      "Downloading torchvision-0.19.1-cp311-cp311-win_amd64.whl (1.3 MB)\n",
      "   ---------------------------------------- 0.0/1.3 MB ? eta -:--:--\n",
      "   ---------------------------------------- 1.3/1.3 MB 21.8 MB/s eta 0:00:00\n",
      "Downloading tqdm-4.66.5-py3-none-any.whl (78 kB)\n",
      "Downloading argparse-1.4.0-py2.py3-none-any.whl (23 kB)\n",
      "Downloading pillow-10.4.0-cp311-cp311-win_amd64.whl (2.6 MB)\n",
      "   ---------------------------------------- 0.0/2.6 MB ? eta -:--:--\n",
      "   ---------------------------------------- 2.6/2.6 MB 24.4 MB/s eta 0:00:00\n",
      "Downloading filelock-3.16.1-py3-none-any.whl (16 kB)\n",
      "Downloading fsspec-2024.9.0-py3-none-any.whl (179 kB)\n",
      "Downloading jinja2-3.1.4-py3-none-any.whl (133 kB)\n",
      "Downloading networkx-3.4-py3-none-any.whl (1.7 MB)\n",
      "   ---------------------------------------- 0.0/1.7 MB ? eta -:--:--\n",
      "   ---------------------------------------- 1.7/1.7 MB 23.2 MB/s eta 0:00:00\n",
      "Downloading numpy-2.1.2-cp311-cp311-win_amd64.whl (12.9 MB)\n",
      "   ---------------------------------------- 0.0/12.9 MB ? eta -:--:--\n",
      "   ------------ --------------------------- 3.9/12.9 MB 23.5 MB/s eta 0:00:01\n",
      "   ------------------------------- -------- 10.2/12.9 MB 26.6 MB/s eta 0:00:01\n",
      "   ---------------------------------------- 12.9/12.9 MB 26.9 MB/s eta 0:00:00\n",
      "Downloading sympy-1.13.3-py3-none-any.whl (6.2 MB)\n",
      "   ---------------------------------------- 0.0/6.2 MB ? eta -:--:--\n",
      "   -------------------------------------- - 6.0/6.2 MB 30.8 MB/s eta 0:00:01\n",
      "   ---------------------------------------- 6.2/6.2 MB 29.2 MB/s eta 0:00:00\n",
      "Downloading MarkupSafe-3.0.1-cp311-cp311-win_amd64.whl (15 kB)\n",
      "Downloading mpmath-1.3.0-py3-none-any.whl (536 kB)\n",
      "   ---------------------------------------- 0.0/536.2 kB ? eta -:--:--\n",
      "   --------------------------------------- 536.2/536.2 kB 17.1 MB/s eta 0:00:00\n",
      "Installing collected packages: mpmath, argparse, tqdm, sympy, pillow, numpy, networkx, MarkupSafe, fsspec, filelock, jinja2, torch, torchvision\n",
      "Successfully installed MarkupSafe-3.0.1 argparse-1.4.0 filelock-3.16.1 fsspec-2024.9.0 jinja2-3.1.4 mpmath-1.3.0 networkx-3.4 numpy-2.1.2 pillow-10.4.0 sympy-1.13.3 torch-2.4.1 torchvision-0.19.1 tqdm-4.66.5\n",
      "Note: you may need to restart the kernel to use updated packages.\n"
     ]
    }
   ],
   "source": [
    "pip install -r requirements.txt"
   ]
  },
  {
   "cell_type": "code",
   "execution_count": 3,
   "metadata": {},
   "outputs": [
    {
     "name": "stderr",
     "output_type": "stream",
     "text": [
      "python: can't open file 'c:\\\\Users\\\\USER\\\\KANcoder\\\\train_mnist.py': [Errno 2] No such file or directory\n"
     ]
    }
   ],
   "source": [
    "!python train_mnist.py"
   ]
  },
  {
   "cell_type": "code",
   "execution_count": null,
   "metadata": {},
   "outputs": [],
   "source": []
  }
 ],
 "metadata": {
  "kernelspec": {
   "display_name": "Python 3",
   "language": "python",
   "name": "python3"
  },
  "language_info": {
   "codemirror_mode": {
    "name": "ipython",
    "version": 3
   },
   "file_extension": ".py",
   "mimetype": "text/x-python",
   "name": "python",
   "nbconvert_exporter": "python",
   "pygments_lexer": "ipython3",
   "version": "3.11.10"
  }
 },
 "nbformat": 4,
 "nbformat_minor": 2
}
