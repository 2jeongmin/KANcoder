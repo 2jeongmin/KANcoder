{
 "cells": [
  {
   "cell_type": "code",
   "execution_count": null,
   "metadata": {},
   "outputs": [],
   "source": [
    "import numpy as np\n",
    "from scipy.integrate import cumtrapz\n",
    "\n",
    "# Acceleration and time data (replace [...] with your actual data)\n",
    "acceleration = np.array([...])\n",
    "time = np.array([...])\n",
    "\n",
    "# Ensure time data is consistent\n",
    "delta_t = np.mean(np.diff(time))  # Time step\n",
    "\n",
    "# Estimate velocity\n",
    "velocity = cumtrapz(acceleration, time, initial=0)\n",
    "\n",
    "# Estimate position\n",
    "position = cumtrapz(velocity, time, initial=0)\n"
   ]
  },
  {
   "cell_type": "code",
   "execution_count": null,
   "metadata": {},
   "outputs": [],
   "source": [
    "# Prepare the data matrix X and target vector y\n",
    "X = np.column_stack((acceleration, velocity, position))  # Shape: (n_samples, 3)\n",
    "y = np.zeros_like(acceleration)  # Since F is assumed to be zero\n",
    "\n",
    "# Perform linear regression without intercept\n",
    "from sklearn.linear_model import LinearRegression\n",
    "\n",
    "model = LinearRegression(fit_intercept=False)\n",
    "model.fit(X, y)\n",
    "\n",
    "# Estimated parameters\n",
    "m_estimated = model.coef_[0]\n",
    "c_estimated = model.coef_[1]\n",
    "k_estimated = model.coef_[2]\n",
    "\n",
    "print(f\"Estimated parameters:\\nm = {m_estimated}\\nc = {c_estimated}\\nk = {k_estimated}\")\n"
   ]
  },
  {
   "cell_type": "code",
   "execution_count": null,
   "metadata": {},
   "outputs": [],
   "source": [
    "from scipy.optimize import minimize\n",
    "\n",
    "# Objective function to minimize\n",
    "def objective(params, u_measured, u_prime_measured, u_double_prime_measured):\n",
    "    m, c, k = params\n",
    "    u_double_prime_model = (1/m) * (-c * u_prime_measured - k * u_measured)\n",
    "    error = u_double_prime_measured - u_double_prime_model\n",
    "    return np.sum(error**2)\n",
    "\n",
    "# Initial guesses for m, c, k\n",
    "initial_guess = [1.0, 0.1, 0.1]\n",
    "\n",
    "# Perform optimization\n",
    "result = minimize(objective, initial_guess, args=(position, velocity, acceleration))\n",
    "\n",
    "# Extract estimated parameters\n",
    "m_estimated, c_estimated, k_estimated = result.x\n",
    "\n",
    "print(f\"Estimated parameters:\\nm = {m_estimated}\\nc = {c_estimated}\\nk = {k_estimated}\")\n"
   ]
  },
  {
   "cell_type": "code",
   "execution_count": null,
   "metadata": {},
   "outputs": [],
   "source": [
    "# Measured external force (replace [...] with your data)\n",
    "force = np.array([...])\n",
    "\n",
    "# Prepare the data matrix X and target vector y\n",
    "X = np.column_stack((acceleration, velocity, position))\n",
    "y = force\n",
    "\n",
    "# Perform linear regression\n",
    "model = LinearRegression(fit_intercept=False)\n",
    "model.fit(X, y)\n",
    "\n",
    "# Estimated parameters\n",
    "m_estimated = model.coef_[0]\n",
    "c_estimated = model.coef_[1]\n",
    "k_estimated = model.coef_[2]\n"
   ]
  }
 ],
 "metadata": {
  "language_info": {
   "name": "python"
  }
 },
 "nbformat": 4,
 "nbformat_minor": 2
}
